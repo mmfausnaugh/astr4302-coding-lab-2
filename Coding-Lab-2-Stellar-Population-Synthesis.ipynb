{
 "cells": [
  {
   "cell_type": "markdown",
   "id": "ed70d3fb",
   "metadata": {},
   "source": [
    "# Coding Lab 2\n",
    "## Packages, ndarrays, Plotting, and Numerical Integration\n",
    "## Stellar Population Synthesis\n",
    "### ASTR-4302, Prof. Faus\n",
    "### **Due 2024 Sep 27, Start of Class**\n",
    "\n",
    "Send to michael.fausnaugh@ttu.edu, with your name in the filename.\n",
    "\n",
    "In this coding lab, we will learn about high-level data structures that are useful for scientific programming. We will also learn how to make plots and figures using Python.\n",
    "\n",
    "We will use these coding tools to try to disentangle the contribution of several stellar populations from a galaxy spectrum.\n",
    "\n",
    "**Full Effort:** To receive a check, you need to demonstrate full effort. You should run your code in every cell (`Shift+Enter`). If the code raises an error, you should try to debug it. \n",
    "\n",
    "If you try to debug things for 2 or 3 hours but can't get it to work, make a note of where you stopped with a comment or print function in the cell. Explain in one or two sentences what the error or problem that you are seeing is and what confusion(s) it is causing you.\n",
    "\n",
    "If you don't give an explanation of why there are errors in your code cells or why you did not complete the notebook, you will receive a check-minus.\n",
    "\n",
    "A check-plus is worth extra credit---one check-plus balances a check-minus. So a check-plus gives you an extra 1.5 percentage points on your final grade. If you want to aim for extra-credit, you have until Friday (Feb. 23) at 10am to work on the coding lab. It is worth saying that I will help you with the coding lab if you bring it to office hours or make an appointment."
   ]
  },
  {
   "cell_type": "markdown",
   "id": "f0a6cf8b",
   "metadata": {},
   "source": [
    "### 1. Packages\n",
    "\n",
    "A package is some set of useful code or software tools that someone has devleoped and made available. In python, there are a lot of freely-available packages. You can find a large list of packages on the Python Package Index, PyPI: https://pypi.org/. \n",
    "\n",
    "A Package is sometimes also called a \"module\" or a \"library.\" Especially in other languages (like C), libraries are a common term.  In some cases, there are technical meanings; for example, a python package is usually made up of one or more modules. But the basic idea for all of these terms (package, module, or library) is that these are extensions to the core language that give you more tools.\n",
    "\n",
    "Two very important packages for scientific computing in python are `numpy` and `matplotlib`. `numpy` is short for Numeric Python. `matplotlib` is a package that will plot data for you.\n",
    "\n",
    "Both packages are very large, in terms of the number of tools and functions that are avaialbe. The packages also have a large userbase and developer base, and you can find a lot of documentation and help for using these pacakges. You should know about the websites, in case you need to find help or read the manuals:\n",
    "\n",
    "https://numpy.org/\n",
    "\n",
    "https://matplotlib.org/\n",
    "\n",
    "It is worth saying that there are other packages out there that do similar things, if not the same things, as these two. But `numpy` and `matplotlib` are probably the most standard and well-known packages for scientific computing in python.\n",
    "\n",
    "A great thing about python is that it is very easy to use packages. To access the tools, you use an `import` command, like this:\n"
   ]
  },
  {
   "cell_type": "code",
   "execution_count": 2,
   "id": "638e4275",
   "metadata": {},
   "outputs": [
    {
     "name": "stdout",
     "output_type": "stream",
     "text": [
      "success, move to the next cell.\n"
     ]
    }
   ],
   "source": [
    "import numpy\n",
    "import matplotlib\n",
    "print(\"success, move to the next cell.\")"
   ]
  },
  {
   "cell_type": "markdown",
   "id": "03cf03c9",
   "metadata": {},
   "source": [
    "This gives you access to all of the tools in numpy or matplotlib. You access them with a `.`, for example"
   ]
  },
  {
   "cell_type": "code",
   "execution_count": 3,
   "id": "f8afc2c0",
   "metadata": {},
   "outputs": [
    {
     "name": "stdout",
     "output_type": "stream",
     "text": [
      "34\n"
     ]
    }
   ],
   "source": [
    "x = [1,2,3]\n",
    "y = [2,4,8]\n",
    "dot_product = numpy.dot(x,y)\n",
    "print(dot_product)"
   ]
  },
  {
   "cell_type": "markdown",
   "id": "ffa19027",
   "metadata": {},
   "source": [
    "So, this function called `numpy.dot` calculated the dot product for 2 lists, x and y.  This function is part of the `numpy` package; in general, you need to know about/learn functions in numpy to make the best use of it.\n",
    "\n",
    "We will do some practice with `matplotlib` a bit further down.\n",
    "\n",
    "It is tedious to keep typing `numpy` or `matplotlib`. You can rename any package when you import it in python. In principle, you can name things whatever you want. People usually change `numpy` to `np`, with the following command:"
   ]
  },
  {
   "cell_type": "code",
   "execution_count": 4,
   "id": "13825894",
   "metadata": {},
   "outputs": [
    {
     "name": "stdout",
     "output_type": "stream",
     "text": [
      "34\n"
     ]
    }
   ],
   "source": [
    "import numpy as np\n",
    "\n",
    "x = [1,2,3]\n",
    "y = [2,4,8]\n",
    "dot_product = np.dot(x,y)\n",
    "print(dot_product)"
   ]
  },
  {
   "cell_type": "markdown",
   "id": "0045cf5f",
   "metadata": {},
   "source": [
    "The best thing to do is to import all of your tools at the very start of your program or notebook---we have already taken care of the imports for this notebook."
   ]
  },
  {
   "cell_type": "markdown",
   "id": "6cceee33",
   "metadata": {},
   "source": [
    "**Exercise:** In the cell below, use numpy to calculate the cross product of two lists. Is the result correct?"
   ]
  },
  {
   "cell_type": "code",
   "execution_count": 12,
   "id": "ab2225a5",
   "metadata": {},
   "outputs": [],
   "source": [
    "x = [1,2,3]\n",
    "y = [2,4,8]\n",
    "\n",
    "#calculate cross product here.\n",
    "\n"
   ]
  },
  {
   "cell_type": "markdown",
   "id": "dd792c2e",
   "metadata": {},
   "source": [
    "### 2. Data Structures and the ndarray\n",
    "\n",
    "Most packages give you new functions and new data structures. We already encountered one kind of data structure, the list.  Remember, for example, that we can add objects to a list in the following way:"
   ]
  },
  {
   "cell_type": "code",
   "execution_count": 5,
   "id": "5a2fe665",
   "metadata": {},
   "outputs": [
    {
     "name": "stdout",
     "output_type": "stream",
     "text": [
      "print statement 1: [1, 2.2, 3.3]\n",
      "print 2, after appending elements [1, 2.2, 3.3, 4.4, 5.5, 6.6000000000000005, 7.700000000000001, 8.8]\n"
     ]
    }
   ],
   "source": [
    "sample_list = [1,2.2, 3.3]\n",
    "print('print statement 1:',sample_list)\n",
    "\n",
    "for ii in range(5):\n",
    "    sample_list.append(4.4 + ii*1.1)\n",
    "print('print 2, after appending elements',sample_list)"
   ]
  },
  {
   "cell_type": "markdown",
   "id": "54dd044b",
   "metadata": {},
   "source": [
    "A list can do other things as well:"
   ]
  },
  {
   "cell_type": "code",
   "execution_count": 8,
   "id": "53046aa4",
   "metadata": {},
   "outputs": [
    {
     "name": "stdout",
     "output_type": "stream",
     "text": [
      "Contents of sample list after inserting 9.9 in the 3rd index:\n",
      "[1, 2.2, 9.9, 3.3, 4.4, 5.5, 6.6000000000000005, 7.700000000000001, 8.8, 9.9]\n",
      "Contents of sample list after sorting:\n",
      "[1, 2.2, 3.3, 4.4, 5.5, 6.6000000000000005, 7.700000000000001, 8.8, 9.9, 9.9]\n"
     ]
    }
   ],
   "source": [
    "#add an element to the middle of a list\n",
    "\n",
    "#first argument of `insert` is the index number, second element is the thing you want to insert\n",
    "sample_list.insert(2, 9.9)\n",
    "\n",
    "#here, you will see that `9.9` has been put in the 3rd place in the list\n",
    "print('Contents of sample list after inserting 9.9 in the 3rd index:')\n",
    "print(sample_list)\n",
    "\n",
    "#sort the list\n",
    "#there is a function called sort, you call it with no arguments and it will sort your data structure\n",
    "sample_list.sort()\n",
    "print('Contents of sample list after sorting:')\n",
    "print(sample_list)"
   ]
  },
  {
   "cell_type": "markdown",
   "id": "3c654372",
   "metadata": {},
   "source": [
    "In some ways, what makes a list a data structure is that (a) it serves as a container for the data, and (b) gives you functions to do things with the data.\n",
    "\n",
    "Two shortcomings of lists are (1) math and function operations are hard, because you have to look up the elements of the list with the index; so usually you do operations on lists in a loop. (2) Looping over a list in python is not very efficient; it can be slow to do a loop over millions of elements in a list."
   ]
  },
  {
   "cell_type": "code",
   "execution_count": 9,
   "id": "a81cfd55",
   "metadata": {},
   "outputs": [
    {
     "name": "stdout",
     "output_type": "stream",
     "text": [
      "[101, 102.2, 103.3, 104.4, 105.5, 106.6, 107.7, 108.8, 109.9, 109.9]\n"
     ]
    },
    {
     "ename": "TypeError",
     "evalue": "can only concatenate list (not \"int\") to list",
     "output_type": "error",
     "traceback": [
      "\u001b[0;31m---------------------------------------------------------------------------\u001b[0m",
      "\u001b[0;31mTypeError\u001b[0m                                 Traceback (most recent call last)",
      "Input \u001b[0;32mIn [9]\u001b[0m, in \u001b[0;36m<cell line: 8>\u001b[0;34m()\u001b[0m\n\u001b[1;32m      4\u001b[0m \u001b[38;5;28mprint\u001b[39m(sample_list)\n\u001b[1;32m      7\u001b[0m \u001b[38;5;66;03m#but this code will cause a TypeError\u001b[39;00m\n\u001b[0;32m----> 8\u001b[0m \u001b[43msample_list\u001b[49m\u001b[43m \u001b[49m\u001b[38;5;241;43m+\u001b[39;49m\u001b[43m \u001b[49m\u001b[38;5;241;43m100\u001b[39;49m\n",
      "\u001b[0;31mTypeError\u001b[0m: can only concatenate list (not \"int\") to list"
     ]
    }
   ],
   "source": [
    "#If I want to add 100 to every element in the list, I have to do this:\n",
    "for ii in range(len(sample_list)):\n",
    "    sample_list[ii] = sample_list[ii] + 100\n",
    "print(sample_list)\n",
    "\n",
    "\n",
    "#but this code will cause a TypeError\n",
    "sample_list + 100\n"
   ]
  },
  {
   "cell_type": "markdown",
   "id": "f8125e55",
   "metadata": {},
   "source": [
    "However, `numpy` has a special data structure called the `ndarray`, which fixes both of these problems. `ndarrays` make math very easy for a collection of data elements. `ndarray` objects are also super efficient, and can do lots of operations across the array quickly. (Under the hood, a lot of `numpy` is written in C, which runs very quickly on loops.)"
   ]
  },
  {
   "cell_type": "code",
   "execution_count": 10,
   "id": "8212fd44",
   "metadata": {},
   "outputs": [
    {
     "name": "stdout",
     "output_type": "stream",
     "text": [
      "<class 'list'>\n",
      "<class 'numpy.ndarray'>\n",
      "[101.  102.2 103.3 104.4 105.5 106.6 107.7 108.8 109.9 109.9]\n",
      "[201.  202.2 203.3 204.4 205.5 206.6 207.7 208.8 209.9 209.9]\n"
     ]
    }
   ],
   "source": [
    "#We can build an ndarray in different ways. For example, we can convert a list to an ndarray\n",
    "print(type(sample_list))\n",
    "sample_array = np.array(sample_list)\n",
    "print(type(sample_array))\n",
    "print(sample_array)\n",
    "print(sample_array + 100)"
   ]
  },
  {
   "cell_type": "markdown",
   "id": "6840d801",
   "metadata": {},
   "source": [
    "`ndarrays` get even better. If you want to do operations on ndarrays of the same size, `numpy` matches elements, one at a time.  This is called \"vectorization.\" It makes our code much easier ot read, because we don't need to loop over the data structs. We can also assign a variable name to an ndarray and use it in an equation."
   ]
  },
  {
   "cell_type": "code",
   "execution_count": null,
   "id": "6e3f3559",
   "metadata": {},
   "outputs": [],
   "source": [
    "#in the last coding lab, we caulculated the area of an ellipse like this.\n",
    "major_axis = [1.1, 2.2, 3.3, 4.4 ]\n",
    "minor_axis = [0.1, 0.2, 0.3, 0.4 ]\n",
    "#BTW, numpy has some built in constants, like pi\n",
    "#so we don't need to define it for ourselves\n",
    "#pi = 3.14159\n",
    "print(np.pi)\n",
    "\n",
    "for ii in range(len( major_axis)):\n",
    "    major_axis_use = major_axis[ii]\n",
    "    minor_axis_use = minor_axis[ii]\n",
    "    area_of_ellipse = np.pi*major_axis_use*minor_axis_use\n",
    "    \n",
    "    print('area of ellipse ', ii,':  ', area_of_ellipse)\n",
    "\n",
    "\n",
    "#Notice how much easier it is with ndarrays \n",
    "major_axis = np.array([1.1, 2.2, 3.3, 4.4 ])\n",
    "minor_axis = np.array([0.1, 0.2, 0.3, 0.4 ])\n",
    "areas = np.pi*major_axis*minor_axis\n",
    "print(areas)\n",
    "\n",
    "#The ndarrays also do the arithmetic faster than the lists. \n",
    "#We might notice this if we tried to do operations on a lists with a million elements or so"
   ]
  },
  {
   "cell_type": "markdown",
   "id": "586d8b45",
   "metadata": {},
   "source": [
    "**Exercise:** In the cell below, calculate the squares for all numbers in the given ndarray"
   ]
  },
  {
   "cell_type": "code",
   "execution_count": 11,
   "id": "355696d4",
   "metadata": {},
   "outputs": [],
   "source": [
    "x = np.array([0,1,2,3,4,5,6,8,9,10,11,12,13,14,15,16,17,18,19,20,21,22,23,24,25,26,27,28,29,30])\n",
    "\n",
    "#calcualte the squares of all elements in x here:\n",
    "\n"
   ]
  },
  {
   "cell_type": "markdown",
   "id": "d17971ad",
   "metadata": {},
   "source": [
    "By default, you should usually plan to use ndarrays in `numpy`. When doing data science with python or scientific computing, ndarrays are one of the best options. (I would argue they are the best overall, but that is an opinion.)\n",
    "\n",
    "Here are some other important and useful numpy functions.  See also the `numpy` tutorial for beginners (https://numpy.org/doc/stable/user/absolute_beginners.html) and `numpy` fundamentals (https://numpy.org/doc/stable/user/basics.html)."
   ]
  },
  {
   "cell_type": "code",
   "execution_count": 13,
   "id": "a80f6857",
   "metadata": {},
   "outputs": [
    {
     "name": "stdout",
     "output_type": "stream",
     "text": [
      "new_array1: [ 1  2  3  4  5  6  7  8  9 10]\n",
      "new_array2: [ 1.   1.2  1.4  1.6  1.8  2.   2.2  2.4  2.6  2.8  3.   3.2  3.4  3.6\n",
      "  3.8  4.   4.2  4.4  4.6  4.8  5.   5.2  5.4  5.6  5.8  6.   6.2  6.4\n",
      "  6.6  6.8  7.   7.2  7.4  7.6  7.8  8.   8.2  8.4  8.6  8.8  9.   9.2\n",
      "  9.4  9.6  9.8 10.  10.2 10.4 10.6 10.8]\n",
      "lenght of new_array3: 30\n",
      "new_array3: [ 1.          1.34482759  1.68965517  2.03448276  2.37931034  2.72413793\n",
      "  3.06896552  3.4137931   3.75862069  4.10344828  4.44827586  4.79310345\n",
      "  5.13793103  5.48275862  5.82758621  6.17241379  6.51724138  6.86206897\n",
      "  7.20689655  7.55172414  7.89655172  8.24137931  8.5862069   8.93103448\n",
      "  9.27586207  9.62068966  9.96551724 10.31034483 10.65517241 11.        ]\n",
      "array_of_zeros: [0. 0. 0. 0. 0. 0. 0. 0. 0. 0.]\n",
      "array_of_ones [1. 1. 1. 1. 1. 1. 1. 1. 1. 1. 1. 1. 1. 1. 1.]\n"
     ]
    }
   ],
   "source": [
    "#ways to make an ndarray:\n",
    "\n",
    "#make a new array. The two arguments set the begining and end\n",
    "new_array1 = np.arange(1,11)\n",
    "print('new_array1:',new_array1)\n",
    "\n",
    "#the third argument sets the spacing\n",
    "new_array2 = np.arange(1,11, 0.2)\n",
    "print('new_array2:',new_array2)\n",
    "\n",
    "#if you don't know the spacing but know the number of elements that you want\n",
    "#use np.linspace\n",
    "#in this case, we make it with 30 elements, evenly spaced\n",
    "new_array3 = np.linspace(1,11,30)\n",
    "print('lenght of new_array3:',len(new_array3))\n",
    "print('new_array3:',new_array3)\n",
    "\n",
    "\n",
    "#make a new array that is all ones or zeros\n",
    "#the argument gives the size of the array you need)\n",
    "array_of_zeros = np.zeros(10)\n",
    "print('array_of_zeros:',array_of_zeros)\n",
    "\n",
    "array_of_ones = np.ones(15)\n",
    "print('array_of_ones',array_of_ones)\n",
    "\n"
   ]
  },
  {
   "cell_type": "markdown",
   "id": "5b8ded77",
   "metadata": {},
   "source": [
    "**Exercise**: In the cell below, make an array of 10 numbers evenly spaced between 10 and 1000. Then make a second array of 10 numbers logarithmically spaced between 10 and 1000."
   ]
  },
  {
   "cell_type": "code",
   "execution_count": null,
   "id": "a6122c71",
   "metadata": {},
   "outputs": [],
   "source": [
    "#make arrays here.\n",
    "\n"
   ]
  },
  {
   "cell_type": "markdown",
   "id": "a77b3909",
   "metadata": {},
   "source": [
    "Here are examples of mathematical functions used with `numpy`:"
   ]
  },
  {
   "cell_type": "code",
   "execution_count": 14,
   "id": "135ee955",
   "metadata": {},
   "outputs": [
    {
     "name": "stdout",
     "output_type": "stream",
     "text": [
      "log_10 of x [0.         0.30103    0.47712125 0.60205999 0.69897    0.77815125\n",
      " 0.84509804 0.90308999 0.95424251 1.        ]\n",
      "log of x [0.         0.69314718 1.09861229 1.38629436 1.60943791 1.79175947\n",
      " 1.94591015 2.07944154 2.19722458 2.30258509]\n",
      "sqrt(x) [1.         1.41421356 1.73205081 2.         2.23606798 2.44948974\n",
      " 2.64575131 2.82842712 3.         3.16227766]\n",
      "x^2 [  1   4   9  16  25  36  49  64  81 100]\n",
      "e^x [2.71828183e+00 7.38905610e+00 2.00855369e+01 5.45981500e+01\n",
      " 1.48413159e+02 4.03428793e+02 1.09663316e+03 2.98095799e+03\n",
      " 8.10308393e+03 2.20264658e+04]\n"
     ]
    }
   ],
   "source": [
    "#numpy functions to act on ndarrays\n",
    "#really easy to do a lot of math\n",
    "x = np.arange(1,11)\n",
    "print('log_10 of x', np.log10(x))\n",
    "print('log of x',    np.log(x))\n",
    "print('sqrt(x)',     np.sqrt(x))\n",
    "print('x^2', np.power(x,2))\n",
    "print('e^x', np.exp(x))\n"
   ]
  },
  {
   "cell_type": "markdown",
   "id": "0fc1cdca",
   "metadata": {},
   "source": [
    "### 3. Plotting\n",
    "\n",
    "The package for plotting is `matplotlib`. Plotting is quite complicated, because you need some software that controls what pixel data the computer knows about, some software that knows how to draw x-y values in terms of pixels, some other software that translate x-y and pixels for the computer, and yet more software that controls how the computer tells the display device (your screen or monitor) to draw the data. \n",
    "\n",
    "In many cases, the scientist doesn't care at all about these things, so a popular model is to separate software tools that the user will use from all of the backend stuff that lets the computer draw graphics. Matplotlib works in this way:"
   ]
  },
  {
   "cell_type": "code",
   "execution_count": 15,
   "id": "043385f7",
   "metadata": {},
   "outputs": [
    {
     "name": "stdout",
     "output_type": "stream",
     "text": [
      "success, continue to next cell\n"
     ]
    }
   ],
   "source": [
    "#import matplotlib tools---this does all the graphics and translations for graphics\n",
    "import matplotlib\n",
    "\n",
    "#set default size of the figures\n",
    "matplotlib.rcParams['figure.figsize'] = (4,4)\n",
    "\n",
    "#this line tells python to draw the plots inside of this jupyter notebook. \n",
    "#So when you plot something, it displays below the code cell\n",
    "%matplotlib inline\n",
    "\n",
    "\n",
    "#all of the user tools are in a module (library) called matplotlib.pyplot. \n",
    "#It is customary to call this set of tools `plot`\n",
    "import matplotlib.pyplot as plt\n",
    "print('success, continue to next cell')"
   ]
  },
  {
   "cell_type": "markdown",
   "id": "0ac1c84a",
   "metadata": {},
   "source": [
    "The key function in `pyplot` is called `plot` (invoked with `plt.plot`). This function takes as the first argument the x-values (in a list or ndarray) and as the second argument the y-values.\n",
    "\n",
    "There are also **keywords** in the plot function, which are variables that are set when a function is called.\n",
    "\n",
    "In `pyplot`, you can change the way the plot looks using the keywords."
   ]
  },
  {
   "cell_type": "code",
   "execution_count": 16,
   "id": "840c59a5",
   "metadata": {},
   "outputs": [
    {
     "data": {
      "text/plain": [
       "[<matplotlib.lines.Line2D at 0x16a95ab00>]"
      ]
     },
     "execution_count": 16,
     "metadata": {},
     "output_type": "execute_result"
    },
    {
     "data": {
      "image/png": "[encoded data removed]",
      "text/plain": [
       "<Figure size 400x400 with 1 Axes>"
      ]
     },
     "metadata": {},
     "output_type": "display_data"
    }
   ],
   "source": [
    "#plot a straight line, with slope of 3 and y-intercept of 10\n",
    "x = np.arange(-5,5.25,0.25)\n",
    "y = 3*x + 10\n",
    "\n",
    "#black circles with no connections\n",
    "plt.plot(x,y,color='black', marker='o', linestyle=\"None\")"
   ]
  },
  {
   "cell_type": "code",
   "execution_count": 17,
   "id": "654c8d5f",
   "metadata": {},
   "outputs": [
    {
     "data": {
      "text/plain": [
       "[<matplotlib.lines.Line2D at 0x16a9d5a80>]"
      ]
     },
     "execution_count": 17,
     "metadata": {},
     "output_type": "execute_result"
    },
    {
     "data": {
      "image/png": "[encoded data removed]",
      "text/plain": [
       "<Figure size 400x400 with 1 Axes>"
      ]
     },
     "metadata": {},
     "output_type": "display_data"
    }
   ],
   "source": [
    "#plot a parabola with y-intercept of 10\n",
    "x = np.arange(-5,5.25,0.25)\n",
    "y = x**2 + 10\n",
    "\n",
    "#red stars with dashed line connection\n",
    "plt.plot(x,y,color='red', marker='^', linestyle=\"--\")"
   ]
  },
  {
   "cell_type": "markdown",
   "id": "0d309324",
   "metadata": {},
   "source": [
    "You can plot several lines in the same figure.  \n",
    "\n",
    "There are also functions to change the x and y axis, and add labels.\n",
    "\n",
    "You can also make a legend.\n",
    "\n",
    "Here are examples of all three:"
   ]
  },
  {
   "cell_type": "code",
   "execution_count": 18,
   "id": "f12c8cb5",
   "metadata": {},
   "outputs": [
    {
     "data": {
      "text/plain": [
       "Text(0.5, 0, 'x-coordinate')"
      ]
     },
     "execution_count": 18,
     "metadata": {},
     "output_type": "execute_result"
    },
    {
     "data": {
      "image/png": "[encoded data removed]",
      "text/plain": [
       "<Figure size 400x400 with 1 Axes>"
      ]
     },
     "metadata": {},
     "output_type": "display_data"
    }
   ],
   "source": [
    "x = np.arange(-5,5.25,0.25)\n",
    "\n",
    "line = 3*x + 10\n",
    "parabola = x**2 + 10\n",
    "quartic = x**4 + x**3 - 6*x**2 +  12*x + 10\n",
    "\n",
    "#We add the \"label\" keyword, as the string that will\n",
    "#appear in the legend\n",
    "plt.plot(x, line, color='black', marker='o',linestyle=\"None\", label=\"line\")\n",
    "\n",
    "plt.plot(x, parabola, color='red', marker='^', linestyle=\"--\", label=\"parabola\")\n",
    "\n",
    "#the 's' is for square\n",
    "plt.plot(x, quartic, color='blue', marker='s', linestyle=\"-\", label=\"quartic\")\n",
    "\n",
    "#loc means \"location\"\n",
    "plt.legend(loc=\"lower right\")\n",
    "\n",
    "#ylimit and xlimit of the axes\n",
    "plt.ylim([-100,100])\n",
    "plt.xlim([-6,6])\n",
    "\n",
    "#x and y labels of the axes\n",
    "plt.ylabel('y-coordinate')\n",
    "plt.xlabel('x-coordinate')"
   ]
  },
  {
   "cell_type": "markdown",
   "id": "f2908847",
   "metadata": {},
   "source": [
    "**Exercise:** In the cell below, make an array with 100 elements evenly spaced between 0 and 1.  Call this array `x`.  Then plot the following functions, all in one figure:\n",
    "$$\n",
    "y = x\\\\\n",
    "y = x^2\\\\\n",
    "y = \\sqrt{x}\\\\\n",
    "y = \\sin(2\\pi x)\n",
    "$$"
   ]
  },
  {
   "cell_type": "code",
   "execution_count": 19,
   "id": "504e8435",
   "metadata": {},
   "outputs": [],
   "source": [
    "#make your array and plot the functions here:\n",
    "\n"
   ]
  },
  {
   "cell_type": "markdown",
   "id": "c90ecd94",
   "metadata": {},
   "source": [
    "### 4. Stellar Population Synthesis\n",
    "\n",
    "In this coding lab, we will try to interpret galaxy spectra that contain a mixture of stellar populations. For simplicity, these will be stellar populations of the same chemical composition but different ages.\n",
    "\n",
    "\n",
    "The first thing we do is pull the data to our working cloud directory. Run the code cell below and to see the galaxy spectra that we will be trying to interpret."
   ]
  },
  {
   "cell_type": "code",
   "execution_count": 27,
   "id": "a8f452cc",
   "metadata": {},
   "outputs": [
    {
     "data": {
      "text/plain": [
       "Text(0, 0.5, 'Flux (arbitrary)')"
      ]
     },
     "execution_count": 27,
     "metadata": {},
     "output_type": "execute_result"
    },
    {
     "data": {
      "image/png": "[encoded data removed]",
      "text/plain": [
       "<Figure size 400x400 with 1 Axes>"
      ]
     },
     "metadata": {},
     "output_type": "display_data"
    }
   ],
   "source": [
    "import os\n",
    "if os.path.isfile('problem1.txt'):\n",
    "    pass\n",
    "else:\n",
    "    !wget https://raw.githubusercontent.com/mmfausnaugh/astr4302-coding-lab-2/refs/heads/main/problem1.txt\n",
    "if os.path.isfile('problem2.txt'):\n",
    "    pass\n",
    "else:\n",
    "    !wget https://raw.githubusercontent.com/mmfausnaugh/astr4302-coding-lab-2/refs/heads/main/problem2.txt\n",
    "if os.path.isfile('problem1.txt'):\n",
    "    pass\n",
    "else:\n",
    "    !wget https://raw.githubusercontent.com/mmfausnaugh/astr4302-coding-lab-2/refs/heads/main/problem3.txt\n",
    "        \n",
    "galaxy1_wavelength,galaxy1_flux = np.genfromtxt('problem1.txt',unpack=1)\n",
    "galaxy2_wavelength,galaxy2_flux = np.genfromtxt('problem2.txt',unpack=1)\n",
    "galaxy3_wavelength,galaxy3_flux = np.genfromtxt('problem3.txt',unpack=1)\n",
    "\n",
    "plt.plot(galaxy1_wavelength, galaxy1_flux, 'r')\n",
    "plt.plot(galaxy2_wavelength, galaxy2_flux, 'm')\n",
    "plt.plot(galaxy3_wavelength, galaxy3_flux, 'k')\n",
    "\n",
    "plt.xlabel(\"Wavelength $\\AA$\")\n",
    "plt.ylabel(\"Flux (arbitrary)\")"
   ]
  },
  {
   "cell_type": "markdown",
   "id": "6566890f",
   "metadata": {},
   "source": [
    "So, this code pulled 3 files from the internet, and plotted their contents. (You can always click on the files that it downloaded in the navigation bar to see what data is inside the files.)\n",
    "\n",
    "We have three very different galaxy spectra---the difference is due to the kind of stars that are present.\n",
    "\n",
    "What we will do is compare the galaxy light to models of stellar populations. Our model of the populations will be a mixture of single stellar populations---the reason for this is that we understand single stellar populations reasonably well from studies of star clusters and the theory of stellar evolution.\n",
    "\n",
    "The spectrum from our galaxy will be\n",
    "$$\n",
    "S(\\lambda)_{\\rm galaxy} = \\sum_i w_i S_i(\\lambda)_{\\rm SSP}.\n",
    "$$\n",
    "\n",
    "Here, $S$ is a spectrum, which is a function of wavelength $\\lambda$. The galaxy spectrum $S_{\\rm galaxy}$ is a sum of single stellar populations (SSPs), each which has a relative weight $w$. \n",
    "\n",
    "To keep things simple, we will try a model with 4 SSPs. Your task will be to determine what $w$ you need for each SSP to reproduce the galaxy spectrum.\n",
    "\n",
    "Let's load up the SSP models:\n"
   ]
  },
  {
   "cell_type": "code",
   "execution_count": 37,
   "id": "3dad3eac",
   "metadata": {},
   "outputs": [],
   "source": [
    "import subprocess\n",
    "urlstem = 'https://archive.stsci.edu/hlsps/reference-atlases/cdbs/grid/stellar_pop/'\n",
    "fstem   = 'ssp_logage{:4.2f}_zhp0.00.fits'\n",
    "for age in [6.0, 8.5,9.25,10]:\n",
    "    file_use = fstem.format(age)\n",
    "    if os.path.isfile(file_use):\n",
    "        pass\n",
    "    else:\n",
    "        print(urlstem+file_use)\n",
    "        subprocess.run(['wget', urlstem + file_use])\n",
    "\n",
    "from astropy.io import fits\n",
    "def read_ssp_template(infile):\n",
    "    d = fits.open(infile)\n",
    "    wavelength = d[1].data['WAVELENGTH']\n",
    "    flux = d[1].data['FLUX']\n",
    "    \n",
    "    m = d[1].data['WAVELENGTH'] == 7050\n",
    "    flux = flux/flux[m]\n",
    "    \n",
    "    m2 = (wavelength > 2000) & (wavelength < 1.e4)\n",
    "    wavelength = wavelength[m2]\n",
    "    flux = flux[m2]\n",
    "    \n",
    "    return wavelength, flux\n",
    "    \n",
    "\n",
    "ssp_1e6_years_wavelength, ssp_1e6_years_flux = read_ssp_template('ssp_logage6.00_zhp0.00.fits')   \n",
    "ssp_3e8_years_wavelength, ssp_3e8_years_flux = read_ssp_template('ssp_logage8.50_zhp0.00.fits')   \n",
    "ssp_2e9_years_wavelength, ssp_2e9_years_flux = read_ssp_template('ssp_logage9.25_zhp0.00.fits')   \n",
    "ssp_1e10_years_wavelength, ssp_1e10_years_flux = read_ssp_template('ssp_logage10.00_zhp0.00.fits')   \n",
    "wavelengths = ssp_1e6_years_wavelength"
   ]
  },
  {
   "cell_type": "markdown",
   "id": "dcc9e25e",
   "metadata": {},
   "source": [
    "The code above downloaded models of SSPs of different ages. In particular, it grabbed a $10^6$\\ year-old SSP, a $3\\times 10^8$\\ year-old SSP, a $2\\times 10^9$\\ year-old SSP, and a $10^10$\\ year-old SSP.  It then loaded the data into ndarrays, called `ssp_1e6_years_<xx>` for the $10^6$\\ year-old SSP, etc.  The `<xx>` is either wavelength or flux, which gives the x-data (wavlength, $\\lambda$) or y-data (flux, $S(\\lambda)$) respectively.\n",
    "\n",
    "You will use these arrays in the following questions. For convienence, their names are\n",
    "\n",
    "```\n",
    "ssp_1e6_years_wavelength, ssp_1e6_years_flux \n",
    "ssp_3e8_years_wavelength, ssp_3e8_years_flux \n",
    "ssp_2e9_years_wavelength, ssp_2e9_years_flux \n",
    "ssp_1e10_years_wavelength, ssp_1e10_years_flux \n",
    "\n",
    "```"
   ]
  },
  {
   "cell_type": "markdown",
   "id": "96bcd785",
   "metadata": {},
   "source": [
    "### 5. Questions\n",
    "\n",
    "1)Plot each SSP in the cell block below. You may use one plot or several plots.  "
   ]
  },
  {
   "cell_type": "code",
   "execution_count": 35,
   "id": "9ce421d3",
   "metadata": {},
   "outputs": [],
   "source": [
    "#plot the SSP models here.  For example, use ssp_1e6_years_wavelength for the x-axis data and ssp_1e6_years_flux for the y-axis data. Remember that you must plot all 4 models"
   ]
  },
  {
   "cell_type": "code",
   "execution_count": null,
   "id": "554d6e73",
   "metadata": {},
   "outputs": [],
   "source": []
  },
  {
   "cell_type": "markdown",
   "id": "a8ea5aa6",
   "metadata": {},
   "source": [
    "2) In two or 3 sentence, describe what you see about the models.  Which model is bluest? Which model is reddest? What distinctive features do you see for each model?"
   ]
  },
  {
   "cell_type": "code",
   "execution_count": null,
   "id": "de7acde7",
   "metadata": {},
   "outputs": [],
   "source": [
    "#give your answer in this cell. Use either comments or print functions."
   ]
  },
  {
   "cell_type": "markdown",
   "id": "a3144538",
   "metadata": {},
   "source": [
    "3) In the following cell block, adjust the weights of each SSP until you reproduce the spectrum for galaxy 1. A few tips:\n",
    "- The weights are relative, and so should range between 0 and 1.\n",
    "- The sum of the weights should equal one.\n",
    "- Try different weights in increments of 0.1 before trying any finer differences.  For example, you will not need a number like 0.87---that will be 0.9 instead. Similarly, 0.45 will either be 0.4 or 0.5.\n",
    "- You may set some weights to 0.\n",
    "- All of the wavelength ndarrays are identical, and you can reference them with the variable `wavelengths`."
   ]
  },
  {
   "cell_type": "code",
   "execution_count": 41,
   "id": "3b382943",
   "metadata": {},
   "outputs": [
    {
     "ename": "SyntaxError",
     "evalue": "invalid syntax (233799383.py, line 3)",
     "output_type": "error",
     "traceback": [
      "\u001b[0;36m  Input \u001b[0;32mIn [41]\u001b[0;36m\u001b[0m\n\u001b[0;31m    w1 =\u001b[0m\n\u001b[0m         ^\u001b[0m\n\u001b[0;31mSyntaxError\u001b[0m\u001b[0;31m:\u001b[0m invalid syntax\n"
     ]
    }
   ],
   "source": [
    "plt.plot(galaxy1_wavelength, galaxy1_flux, 'r')\n",
    "\n",
    "w1 = \n",
    "w2 = \n",
    "w3 = \n",
    "w4 = \n",
    "\n",
    "model_flux = w1*ssp_1e6_years_flux + \\\n",
    "             w2*ssp_3e8_years_flux + \\\n",
    "             w3*ssp_2e9_years_flux + \\\n",
    "             w4*ssp_1e10_years_flux\n",
    "\n",
    "plt.plot(wavelengths, model_flux)\n"
   ]
  },
  {
   "cell_type": "markdown",
   "id": "c10106c4",
   "metadata": {},
   "source": [
    "4) Repeat question 4 but for galaxy 2. In this case, write or copy the code that calcualtes the galaxy model flux."
   ]
  },
  {
   "cell_type": "code",
   "execution_count": 42,
   "id": "557e26bf",
   "metadata": {},
   "outputs": [
    {
     "data": {
      "text/plain": [
       "[<matplotlib.lines.Line2D at 0x16c1a2b00>]"
      ]
     },
     "execution_count": 42,
     "metadata": {},
     "output_type": "execute_result"
    },
    {
     "data": {
      "image/png": "[encoded data removed]",
      "text/plain": [
       "<Figure size 400x400 with 1 Axes>"
      ]
     },
     "metadata": {},
     "output_type": "display_data"
    }
   ],
   "source": [
    "plt.plot(galaxy2_wavelength, galaxy2_flux, 'm')\n",
    "\n",
    "#calculate the model galaxy flux here, and plot it to compare with galaxy 2."
   ]
  },
  {
   "cell_type": "markdown",
   "id": "b1765f40",
   "metadata": {},
   "source": [
    "5) Repeat question 4 but for galaxy 3. "
   ]
  },
  {
   "cell_type": "code",
   "execution_count": 44,
   "id": "76ce2bb8",
   "metadata": {},
   "outputs": [
    {
     "data": {
      "text/plain": [
       "[<matplotlib.lines.Line2D at 0x16c20ae90>]"
      ]
     },
     "execution_count": 44,
     "metadata": {},
     "output_type": "execute_result"
    },
    {
     "data": {
      "image/png": "[encoded data removed]",
      "text/plain": [
       "<Figure size 400x400 with 1 Axes>"
      ]
     },
     "metadata": {},
     "output_type": "display_data"
    }
   ],
   "source": [
    "plt.plot(galaxy3_wavelength, galaxy3_flux, 'k')\n",
    "\n",
    "#calculate the model galaxy flux here, and plot it to compare with galaxy 2."
   ]
  },
  {
   "cell_type": "markdown",
   "id": "1223bf7a",
   "metadata": {},
   "source": [
    "6) In the cell below, list the ages of the SSPs for each galaxy. Be sure to include units."
   ]
  },
  {
   "cell_type": "code",
   "execution_count": null,
   "id": "7daf22c9",
   "metadata": {},
   "outputs": [],
   "source": [
    "print('Galaxy 1 consists of SSPs of ages:')\n",
    "print('Galaxy 2 consists of SSPs of ages:')\n",
    "print('Galaxy 3 consists of SSPs of ages:')"
   ]
  }
 ],
 "metadata": {
  "kernelspec": {
   "display_name": "Python 3 (ipykernel)",
   "language": "python",
   "name": "python3"
  },
  "language_info": {
   "codemirror_mode": {
    "name": "ipython",
    "version": 3
   },
   "file_extension": ".py",
   "mimetype": "text/x-python",
   "name": "python",
   "nbconvert_exporter": "python",
   "pygments_lexer": "ipython3",
   "version": "3.10.4"
  }
 },
 "nbformat": 4,
 "nbformat_minor": 5
}
